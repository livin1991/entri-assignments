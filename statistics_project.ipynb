{
 "cells": [
  {
   "cell_type": "code",
   "execution_count": 2,
   "id": "c52203fb",
   "metadata": {},
   "outputs": [],
   "source": [
    "import pandas as pd\n",
    "import numpy as np\n",
    "import matplotlib.pyplot as plt\n",
    "import seaborn as sns\n",
    "from scipy import stats\n",
    "import warnings\n",
    "warnings.filterwarnings('ignore')"
   ]
  },
  {
   "cell_type": "code",
   "execution_count": 3,
   "id": "162309a4",
   "metadata": {},
   "outputs": [],
   "source": [
    "df = pd.read_csv('customer_behavior.csv')"
   ]
  },
  {
   "cell_type": "code",
   "execution_count": 4,
   "id": "33bee5ae",
   "metadata": {},
   "outputs": [
    {
     "data": {
      "text/html": [
       "<div>\n",
       "<style scoped>\n",
       "    .dataframe tbody tr th:only-of-type {\n",
       "        vertical-align: middle;\n",
       "    }\n",
       "\n",
       "    .dataframe tbody tr th {\n",
       "        vertical-align: top;\n",
       "    }\n",
       "\n",
       "    .dataframe thead th {\n",
       "        text-align: right;\n",
       "    }\n",
       "</style>\n",
       "<table border=\"1\" class=\"dataframe\">\n",
       "  <thead>\n",
       "    <tr style=\"text-align: right;\">\n",
       "      <th></th>\n",
       "      <th>CustomerID</th>\n",
       "      <th>Gender</th>\n",
       "      <th>Region</th>\n",
       "      <th>PurchaseAmount</th>\n",
       "      <th>ProductCategory</th>\n",
       "      <th>Churn</th>\n",
       "      <th>CampaignGroup</th>\n",
       "    </tr>\n",
       "  </thead>\n",
       "  <tbody>\n",
       "    <tr>\n",
       "      <th>0</th>\n",
       "      <td>1001</td>\n",
       "      <td>Male</td>\n",
       "      <td>South</td>\n",
       "      <td>256.07</td>\n",
       "      <td>Fashion</td>\n",
       "      <td>No</td>\n",
       "      <td>A</td>\n",
       "    </tr>\n",
       "    <tr>\n",
       "      <th>1</th>\n",
       "      <td>1002</td>\n",
       "      <td>Female</td>\n",
       "      <td>South</td>\n",
       "      <td>NaN</td>\n",
       "      <td>Electronics</td>\n",
       "      <td>Yes</td>\n",
       "      <td>B</td>\n",
       "    </tr>\n",
       "    <tr>\n",
       "      <th>2</th>\n",
       "      <td>1003</td>\n",
       "      <td>Female</td>\n",
       "      <td>West</td>\n",
       "      <td>1194.41</td>\n",
       "      <td>Fashion</td>\n",
       "      <td>No</td>\n",
       "      <td>A</td>\n",
       "    </tr>\n",
       "    <tr>\n",
       "      <th>3</th>\n",
       "      <td>1004</td>\n",
       "      <td>Female</td>\n",
       "      <td>South</td>\n",
       "      <td>413.06</td>\n",
       "      <td>Grocery</td>\n",
       "      <td>No</td>\n",
       "      <td>A</td>\n",
       "    </tr>\n",
       "    <tr>\n",
       "      <th>4</th>\n",
       "      <td>1005</td>\n",
       "      <td>Male</td>\n",
       "      <td>West</td>\n",
       "      <td>1556.32</td>\n",
       "      <td>Fashion</td>\n",
       "      <td>Yes</td>\n",
       "      <td>A</td>\n",
       "    </tr>\n",
       "  </tbody>\n",
       "</table>\n",
       "</div>"
      ],
      "text/plain": [
       "   CustomerID  Gender Region  PurchaseAmount ProductCategory Churn  \\\n",
       "0        1001    Male  South          256.07         Fashion    No   \n",
       "1        1002  Female  South             NaN     Electronics   Yes   \n",
       "2        1003  Female   West         1194.41         Fashion    No   \n",
       "3        1004  Female  South          413.06         Grocery    No   \n",
       "4        1005    Male   West         1556.32         Fashion   Yes   \n",
       "\n",
       "  CampaignGroup  \n",
       "0             A  \n",
       "1             B  \n",
       "2             A  \n",
       "3             A  \n",
       "4             A  "
      ]
     },
     "execution_count": 4,
     "metadata": {},
     "output_type": "execute_result"
    }
   ],
   "source": [
    "df.head()"
   ]
  },
  {
   "cell_type": "code",
   "execution_count": 5,
   "id": "19b93664",
   "metadata": {},
   "outputs": [
    {
     "name": "stdout",
     "output_type": "stream",
     "text": [
      "<class 'pandas.core.frame.DataFrame'>\n",
      "RangeIndex: 5000 entries, 0 to 4999\n",
      "Data columns (total 7 columns):\n",
      " #   Column           Non-Null Count  Dtype  \n",
      "---  ------           --------------  -----  \n",
      " 0   CustomerID       5000 non-null   int64  \n",
      " 1   Gender           4903 non-null   object \n",
      " 2   Region           4825 non-null   object \n",
      " 3   PurchaseAmount   4850 non-null   float64\n",
      " 4   ProductCategory  4474 non-null   object \n",
      " 5   Churn            4735 non-null   object \n",
      " 6   CampaignGroup    4815 non-null   object \n",
      "dtypes: float64(1), int64(1), object(5)\n",
      "memory usage: 273.6+ KB\n"
     ]
    }
   ],
   "source": [
    "df.info()"
   ]
  },
  {
   "cell_type": "code",
   "execution_count": 6,
   "id": "44231ff0",
   "metadata": {},
   "outputs": [
    {
     "name": "stdout",
     "output_type": "stream",
     "text": [
      "Average (Mean): 1003.95\n",
      "Median: 998.08\n",
      "Mode: 0.00\n"
     ]
    }
   ],
   "source": [
    "# Q1. What is the average, median, and mode of PurchaseAmount\n",
    "mean_val = df['PurchaseAmount'].mean()\n",
    "median_val = df['PurchaseAmount'].median()\n",
    "mode_val = df['PurchaseAmount'].mode()[0]\n",
    "\n",
    "print(f\"Average (Mean): {mean_val:.2f}\")\n",
    "print(f\"Median: {median_val:.2f}\")\n",
    "print(f\"Mode: {mode_val:.2f}\")\n"
   ]
  },
  {
   "cell_type": "code",
   "execution_count": 8,
   "id": "1df21907",
   "metadata": {},
   "outputs": [
    {
     "name": "stdout",
     "output_type": "stream",
     "text": [
      "CustomerID           0\n",
      "Gender              97\n",
      "Region             175\n",
      "PurchaseAmount     150\n",
      "ProductCategory    526\n",
      "Churn              265\n",
      "CampaignGroup      185\n",
      "dtype: int64\n"
     ]
    }
   ],
   "source": [
    "# Check missing values\n",
    "print(df.isnull().sum())\n",
    "\n",
    "# Handle missing PurchaseAmount by replacing with median\n",
    "df['PurchaseAmount'].fillna(df['PurchaseAmount'].median(), inplace=True)\n",
    "\n",
    "# Handle missing categorical values by replacing with mode\n",
    "for col in ['Gender', 'Region', 'ProductCategory', 'Churn', 'CampaignGroup']:\n",
    "    df[col].fillna(df[col].mode()[0], inplace=True)"
   ]
  },
  {
   "cell_type": "code",
   "execution_count": 9,
   "id": "fdeecf8d",
   "metadata": {},
   "outputs": [
    {
     "name": "stdout",
     "output_type": "stream",
     "text": [
      "<class 'pandas.core.frame.DataFrame'>\n",
      "RangeIndex: 5000 entries, 0 to 4999\n",
      "Data columns (total 7 columns):\n",
      " #   Column           Non-Null Count  Dtype  \n",
      "---  ------           --------------  -----  \n",
      " 0   CustomerID       5000 non-null   int64  \n",
      " 1   Gender           5000 non-null   object \n",
      " 2   Region           5000 non-null   object \n",
      " 3   PurchaseAmount   5000 non-null   float64\n",
      " 4   ProductCategory  5000 non-null   object \n",
      " 5   Churn            5000 non-null   object \n",
      " 6   CampaignGroup    5000 non-null   object \n",
      "dtypes: float64(1), int64(1), object(5)\n",
      "memory usage: 273.6+ KB\n"
     ]
    }
   ],
   "source": [
    "df.info()"
   ]
  },
  {
   "cell_type": "code",
   "execution_count": 10,
   "id": "88b10e5a",
   "metadata": {},
   "outputs": [
    {
     "data": {
      "image/png": "[encoded data removed]",
      "text/plain": [
       "<Figure size 640x480 with 1 Axes>"
      ]
     },
     "metadata": {},
     "output_type": "display_data"
    },
    {
     "name": "stdout",
     "output_type": "stream",
     "text": [
      "Number of outliers: 24\n"
     ]
    }
   ],
   "source": [
    "# Q2. Are there any outliers in the PurchaseAmount data?\n",
    "sns.boxplot(df['PurchaseAmount'])\n",
    "plt.title(\"Boxplot of PurchaseAmount\")\n",
    "plt.show()\n",
    "\n",
    "# Using IQR method\n",
    "Q1 = df['PurchaseAmount'].quantile(0.25)\n",
    "Q3 = df['PurchaseAmount'].quantile(0.75)\n",
    "IQR = Q3 - Q1\n",
    "\n",
    "lower = Q1 - 1.5*IQR\n",
    "upper = Q3 + 1.5*IQR\n",
    "\n",
    "outliers = df[(df['PurchaseAmount'] < lower) | (df['PurchaseAmount'] > upper)]\n",
    "print(\"Number of outliers:\", len(outliers))\n"
   ]
  },
  {
   "cell_type": "code",
   "execution_count": 12,
   "id": "8508f5ef",
   "metadata": {},
   "outputs": [
    {
     "name": "stdout",
     "output_type": "stream",
     "text": [
      "Skewness: 0.11\n",
      "Kurtosis: -0.18\n"
     ]
    },
    {
     "data": {
      "image/png": "[encoded data removed]",
      "text/plain": [
       "<Figure size 640x480 with 1 Axes>"
      ]
     },
     "metadata": {},
     "output_type": "display_data"
    },
    {
     "name": "stdout",
     "output_type": "stream",
     "text": [
      "positive skewness \n"
     ]
    }
   ],
   "source": [
    "# Q3. Is there any skewness or kurtosis in the PurchaseAmount distribution?\n",
    "skewness = df['PurchaseAmount'].skew()\n",
    "kurtosis = df['PurchaseAmount'].kurt()\n",
    "\n",
    "print(f\"Skewness: {skewness:.2f}\")\n",
    "print(f\"Kurtosis: {kurtosis:.2f}\")\n",
    "\n",
    "sns.histplot(df['PurchaseAmount'], kde=True)\n",
    "plt.title(\"PurchaseAmount Distribution\")\n",
    "plt.show()\n",
    "print (\"positive skewness \")\n"
   ]
  },
  {
   "cell_type": "code",
   "execution_count": 14,
   "id": "783baaf1",
   "metadata": {},
   "outputs": [
    {
     "name": "stdout",
     "output_type": "stream",
     "text": [
      "T-statistic: 2.27, P-value: 0.0231\n",
      "✅ Significant difference between Male and Female spending.\n"
     ]
    }
   ],
   "source": [
    "# Q4. Is there a significant difference in spending between male and female customers?\n",
    "male = df[df['Gender']=='Male']['PurchaseAmount']\n",
    "female = df[df['Gender']=='Female']['PurchaseAmount']\n",
    "\n",
    "t_stat, p_val = stats.ttest_ind(male, female)\n",
    "\n",
    "print(f\"T-statistic: {t_stat:.2f}, P-value: {p_val:.4f}\")\n",
    "\n",
    "if p_val < 0.05:\n",
    "    print(\"✅ Significant difference between Male and Female spending.\")\n",
    "else:\n",
    "    print(\"❌ No significant difference.\")\n"
   ]
  },
  {
   "cell_type": "code",
   "execution_count": 15,
   "id": "4c092c56",
   "metadata": {},
   "outputs": [
    {
     "name": "stdout",
     "output_type": "stream",
     "text": [
      "Chi-Square: 0.93, p-value: 0.6275\n",
      "❌ No significant relationship.\n"
     ]
    }
   ],
   "source": [
    "# Q5. Is there a relationship between ProductCategory and customer churn?\n",
    "cont_table = pd.crosstab(df['ProductCategory'], df['Churn'])\n",
    "chi2, p, dof, expected = stats.chi2_contingency(cont_table)\n",
    "\n",
    "print(f\"Chi-Square: {chi2:.2f}, p-value: {p:.4f}\")\n",
    "if p < 0.05:\n",
    "    print(\"✅ Significant relationship between ProductCategory and Churn.\")\n",
    "else:\n",
    "    print(\"❌ No significant relationship.\")"
   ]
  },
  {
   "cell_type": "code",
   "execution_count": 16,
   "id": "5f58af10",
   "metadata": {},
   "outputs": [
    {
     "name": "stdout",
     "output_type": "stream",
     "text": [
      "F-statistic: 0.39, P-value: 0.7627\n",
      "❌ No significant difference across regions.\n"
     ]
    }
   ],
   "source": [
    "# Q6. Does PurchaseAmount vary significantly across different regions?\n",
    "anova = stats.f_oneway(\n",
    "    *[df[df['Region']==region]['PurchaseAmount'] for region in df['Region'].unique()]\n",
    ")\n",
    "print(f\"F-statistic: {anova.statistic:.2f}, P-value: {anova.pvalue:.4f}\")\n",
    "\n",
    "if anova.pvalue < 0.05:\n",
    "    print(\"✅ PurchaseAmount varies significantly across regions.\")\n",
    "else:\n",
    "    print(\"❌ No significant difference across regions.\")"
   ]
  },
  {
   "cell_type": "code",
   "execution_count": 17,
   "id": "afd28b2d",
   "metadata": {},
   "outputs": [
    {
     "name": "stdout",
     "output_type": "stream",
     "text": [
      "CampaignGroup\n",
      "A    1012.250984\n",
      "B     994.435864\n",
      "Name: PurchaseAmount, dtype: float64\n",
      "✅ Campaign A performed better on average PurchaseAmount.\n"
     ]
    }
   ],
   "source": [
    "# Q7. Which email campaign (A or B) performed better in terms of average PurchaseAmount?\n",
    "campaign_mean = df.groupby('CampaignGroup')['PurchaseAmount'].mean()\n",
    "print(campaign_mean)\n",
    "\n",
    "better = campaign_mean.idxmax()\n",
    "print(f\"✅ Campaign {better} performed better on average PurchaseAmount.\")"
   ]
  },
  {
   "cell_type": "code",
   "execution_count": 18,
   "id": "3c0e1a71",
   "metadata": {},
   "outputs": [
    {
     "name": "stdout",
     "output_type": "stream",
     "text": [
      "Shapiro-Wilk test p-value: 0.0082\n",
      "❌ Data is not normally distributed.\n"
     ]
    }
   ],
   "source": [
    "# Q8. Can we assume PurchaseAmount follows a normal distribution?\n",
    "stat, p = stats.shapiro(df['PurchaseAmount'].sample(500))  # use sample to avoid warning\n",
    "print(f\"Shapiro-Wilk test p-value: {p:.4f}\")\n",
    "\n",
    "if p > 0.05:\n",
    "    print(\"✅ Data is approximately normal.\")\n",
    "else:\n",
    "    print(\"❌ Data is not normally distributed.\")"
   ]
  },
  {
   "cell_type": "code",
   "execution_count": 19,
   "id": "c24be9d2",
   "metadata": {},
   "outputs": [
    {
     "data": {
      "image/png": "[encoded data removed]",
      "text/plain": [
       "<Figure size 640x480 with 1 Axes>"
      ]
     },
     "metadata": {},
     "output_type": "display_data"
    },
    {
     "name": "stdout",
     "output_type": "stream",
     "text": [
      "✅ According to CLT, even if PurchaseAmount is not normal, the sampling distribution of the mean is approximately normal.\n"
     ]
    }
   ],
   "source": [
    "# Q9. What insights can we gain by applying the Central Limit Theorem?\n",
    "means = []\n",
    "for i in range(1000):\n",
    "    sample = df['PurchaseAmount'].sample(50)\n",
    "    means.append(sample.mean())\n",
    "\n",
    "sns.histplot(means, kde=True)\n",
    "plt.title(\"Sampling Distribution of the Mean (CLT Demonstration)\")\n",
    "plt.xlabel(\"Sample Means\")\n",
    "plt.show()\n",
    "\n",
    "print(\"✅ According to CLT, even if PurchaseAmount is not normal, the sampling distribution of the mean is approximately normal.\")\n"
   ]
  },
  {
   "cell_type": "code",
   "execution_count": 20,
   "id": "16c7b2e4",
   "metadata": {},
   "outputs": [
    {
     "name": "stdout",
     "output_type": "stream",
     "text": [
      "95% Confidence Interval for Average PurchaseAmount: (np.float64(990.6132881188448), np.float64(1016.9358118811551))\n"
     ]
    }
   ],
   "source": [
    "# Q10. What is the 95% confidence interval for the average PurchaseAmount?\n",
    "confidence_interval = stats.norm.interval(\n",
    "    0.95,\n",
    "    loc=df['PurchaseAmount'].mean(),\n",
    "    scale=stats.sem(df['PurchaseAmount'])\n",
    ")\n",
    "print(\"95% Confidence Interval for Average PurchaseAmount:\", confidence_interval)"
   ]
  }
 ],
 "metadata": {
  "kernelspec": {
   "display_name": "base",
   "language": "python",
   "name": "python3"
  },
  "language_info": {
   "codemirror_mode": {
    "name": "ipython",
    "version": 3
   },
   "file_extension": ".py",
   "mimetype": "text/x-python",
   "name": "python",
   "nbconvert_exporter": "python",
   "pygments_lexer": "ipython3",
   "version": "3.13.5"
  }
 },
 "nbformat": 4,
 "nbformat_minor": 5
}
