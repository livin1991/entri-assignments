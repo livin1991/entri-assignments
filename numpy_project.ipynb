{
 "cells": [
  {
   "cell_type": "code",
   "execution_count": 1,
   "id": "82d2515b",
   "metadata": {},
   "outputs": [],
   "source": [
    "import numpy as np"
   ]
  },
  {
   "cell_type": "code",
   "execution_count": 2,
   "id": "2b1393a3",
   "metadata": {},
   "outputs": [
    {
     "name": "stdout",
     "output_type": "stream",
     "text": [
      "NumPy Version: 2.3.3\n"
     ]
    }
   ],
   "source": [
    "print(\"NumPy Version:\", np.__version__)\n"
   ]
  },
  {
   "cell_type": "code",
   "execution_count": 3,
   "id": "571a3c81",
   "metadata": {},
   "outputs": [
    {
     "name": "stdout",
     "output_type": "stream",
     "text": [
      "reshaped Array\n",
      " [[ 1  2  3  4  5]\n",
      " [ 6  7  8  9 10]]\n"
     ]
    }
   ],
   "source": [
    "arr1 = np.arange(1, 11)\n",
    "reshaped_arr1 = arr1.reshape(2, 5)\n",
    "print(\"reshaped Array\\n\" , reshaped_arr1)"
   ]
  },
  {
   "cell_type": "code",
   "execution_count": 4,
   "id": "04f768ec",
   "metadata": {},
   "outputs": [
    {
     "name": "stdout",
     "output_type": "stream",
     "text": [
      "original array\n",
      " [ 1  2  3  4  5  6  7  8  9 10 11 12 13 14 15 16 17 18 19 20]\n",
      "extracted array\n",
      " [ 6  7  8  9 10 11 12 13 14 15 16]\n"
     ]
    }
   ],
   "source": [
    "arr2 = np.arange(1, 21)\n",
    "subset_arr2 = arr2[5:16]  \n",
    "print(\"original array\\n\", arr2)\n",
    "print(\"extracted array\\n\", subset_arr2)"
   ]
  },
  {
   "cell_type": "code",
   "execution_count": 8,
   "id": "14a599a6",
   "metadata": {},
   "outputs": [
    {
     "name": "stdout",
     "output_type": "stream",
     "text": [
      "\n",
      "Mean: 10.5\n",
      "Median: 10.5\n",
      "Standard Deviation: 5.766281297335398\n"
     ]
    }
   ],
   "source": [
    "mean_val = np.mean(arr2)\n",
    "median_val = np.median(arr2)\n",
    "std_val = np.std(arr2)\n",
    "print(\"\\nMean:\", mean_val)\n",
    "print(\"Median:\", median_val)\n",
    "print(\"Standard Deviation:\", std_val)"
   ]
  },
  {
   "cell_type": "code",
   "execution_count": 7,
   "id": "63b0fea3",
   "metadata": {},
   "outputs": [
    {
     "name": "stdout",
     "output_type": "stream",
     "text": [
      " array (x):\n",
      " [[ 10  20  30  40]\n",
      " [ 50  60  70  80]\n",
      " [ 90 100 110 120]]\n",
      "array (y):\n",
      " [1 2 3 4]\n",
      "Result\n",
      " [[  9  18  27  36]\n",
      " [ 49  58  67  76]\n",
      " [ 89  98 107 116]]\n"
     ]
    }
   ],
   "source": [
    "x = np.array([[10, 20, 30, 40],\n",
    "              [50, 60, 70, 80],\n",
    "              [90, 100, 110, 120]])\n",
    "\n",
    "y = np.array([1, 2, 3, 4])\n",
    "\n",
    "result= x-y\n",
    "print(\" array (x):\\n\", x)\n",
    "print(\"array (y):\\n\", y)\n",
    "print(\"Result\\n\", result)\n"
   ]
  }
 ],
 "metadata": {
  "kernelspec": {
   "display_name": "Python 3",
   "language": "python",
   "name": "python3"
  },
  "language_info": {
   "codemirror_mode": {
    "name": "ipython",
    "version": 3
   },
   "file_extension": ".py",
   "mimetype": "text/x-python",
   "name": "python",
   "nbconvert_exporter": "python",
   "pygments_lexer": "ipython3",
   "version": "3.12.0"
  }
 },
 "nbformat": 4,
 "nbformat_minor": 5
}
