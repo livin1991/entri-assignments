{
 "cells": [
  {
   "cell_type": "markdown",
   "id": "19c9158e",
   "metadata": {},
   "source": [
    "# data structures\n"
   ]
  },
  {
   "cell_type": "markdown",
   "id": "7d8c43dd",
   "metadata": {},
   "source": []
  }
 ],
 "metadata": {
  "kernelspec": {
   "display_name": "Python 3",
   "language": "python",
   "name": "python3"
  },
  "language_info": {
   "codemirror_mode": {
    "name": "ipython",
    "version": 3
   },
   "file_extension": ".py",
   "mimetype": "text/x-python",
   "name": "python",
   "nbconvert_exporter": "python",
   "pygments_lexer": "ipython3",
   "version": "3.10.0"
  }
 },
 "nbformat": 4,
 "nbformat_minor": 5
}
