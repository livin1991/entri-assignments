{
 "cells": [
  {
   "cell_type": "markdown",
   "id": "19c9158e",
   "metadata": {},
   "source": [
    "# data structures\n"
   ]
  },
  {
   "cell_type": "code",
   "execution_count": 6,
   "id": "ac2d26f8",
   "metadata": {},
   "outputs": [
    {
     "name": "stdout",
     "output_type": "stream",
     "text": [
      "list is: [21, 43, 67, 12, 84]\n",
      "updated list is: [21, 43, 67, 12, 84, 32, 54, 16]\n",
      "21, 43, 67, 12, 84, 32, 54, 16, "
     ]
    }
   ],
   "source": [
    "#list\n",
    "list1=[21,43,67,12,84]\n",
    "print(\"list is:\",list1)\n",
    "list1.extend([32,54,16,])\n",
    "print('updated list is:',list1)\n",
    "for i in list1:\n",
    "    print(i,end=', ')"
   ]
  },
  {
   "cell_type": "code",
   "execution_count": 16,
   "id": "857bed9e",
   "metadata": {},
   "outputs": [
    {
     "name": "stdout",
     "output_type": "stream",
     "text": [
      "dictionary is: {'name': 'john', 'age': 25, 'addres': 'newyork'}\n",
      "updated dictionary is: {'name': 'john', 'age': 25, 'addres': 'newyork', 'phone': 9876543210}\n",
      "name : john\n",
      "age : 25\n",
      "addres : newyork\n",
      "phone : 9876543210\n"
     ]
    }
   ],
   "source": [
    "dict1={\"name\":\"john\",\"age\":25,\"addres\":\"newyork\"}\n",
    "print(\"dictionary is:\",dict1)\n",
    "dict1.update({\"phone\":9876543210})\n",
    "print(\"updated dictionary is:\",dict1)\n",
    "for i,j in dict1.items():\n",
    "    print(i,\":\",j)\n",
    "    "
   ]
  },
  {
   "cell_type": "code",
   "execution_count": 21,
   "id": "fac34605",
   "metadata": {},
   "outputs": [
    {
     "name": "stdout",
     "output_type": "stream",
     "text": [
      "after the changes set is: {1, 2, 4, 5, 6}\n",
      "1,2,4,5,6,"
     ]
    }
   ],
   "source": [
    "set1={1,2,3,4,5,}\n",
    "set1.add(6)\n",
    "set1.remove(3)\n",
    "print(\"after the changes set is:\",set1)\n",
    "for i in set1:\n",
    "    print(i,end=\",\")"
   ]
  },
  {
   "cell_type": "markdown",
   "id": "7d8c43dd",
   "metadata": {},
   "source": []
  },
  {
   "cell_type": "code",
   "execution_count": 22,
   "id": "d7fc6acf",
   "metadata": {},
   "outputs": [
    {
     "name": "stdout",
     "output_type": "stream",
     "text": [
      "tuple length is: 4\n"
     ]
    }
   ],
   "source": [
    "tuple1=(1,2,3,4)\n",
    "print(\"tuple length is:\",len(tuple1))"
   ]
  }
 ],
 "metadata": {
  "kernelspec": {
   "display_name": "Python 3",
   "language": "python",
   "name": "python3"
  },
  "language_info": {
   "codemirror_mode": {
    "name": "ipython",
    "version": 3
   },
   "file_extension": ".py",
   "mimetype": "text/x-python",
   "name": "python",
   "nbconvert_exporter": "python",
   "pygments_lexer": "ipython3",
   "version": "3.10.0"
  }
 },
 "nbformat": 4,
 "nbformat_minor": 5
}
